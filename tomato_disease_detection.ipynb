{
 "cells": [
  {
   "cell_type": "markdown",
   "id": "26748504-69f5-4401-b60e-f35b36e31c2b",
   "metadata": {},
   "source": [
    "# Tomato Disease Detection"
   ]
  },
  {
   "cell_type": "markdown",
   "id": "825a5d63-d4a8-4191-9d5f-3fe6d50e2ece",
   "metadata": {},
   "source": [
    "## 1. Filter image duplication\n",
    "Check the image duplication in the same folder than the duplicate will be deleted."
   ]
  },
  {
   "cell_type": "code",
   "execution_count": 1,
   "id": "62926b78-48e0-48f9-a8fe-ed14bab41a66",
   "metadata": {},
   "outputs": [
    {
     "name": "stderr",
     "output_type": "stream",
     "text": [
      "Processing folders:  10%|█         | 1/10 [00:18<02:46, 18.55s/it]"
     ]
    },
    {
     "name": "stdout",
     "output_type": "stream",
     "text": [
      "bacterial_spot — removed 0 duplicates.\n"
     ]
    },
    {
     "name": "stderr",
     "output_type": "stream",
     "text": [
      "Processing folders:  20%|██        | 2/10 [00:25<01:35, 11.88s/it]"
     ]
    },
    {
     "name": "stdout",
     "output_type": "stream",
     "text": [
      "early_blight — removed 0 duplicates.\n"
     ]
    },
    {
     "name": "stderr",
     "output_type": "stream",
     "text": [
      "Processing folders:  30%|███       | 3/10 [00:39<01:28, 12.71s/it]"
     ]
    },
    {
     "name": "stdout",
     "output_type": "stream",
     "text": [
      "healthy — removed 0 duplicates.\n"
     ]
    },
    {
     "name": "stderr",
     "output_type": "stream",
     "text": [
      "Processing folders:  40%|████      | 4/10 [00:53<01:20, 13.43s/it]"
     ]
    },
    {
     "name": "stdout",
     "output_type": "stream",
     "text": [
      "late_blight — removed 0 duplicates.\n"
     ]
    },
    {
     "name": "stderr",
     "output_type": "stream",
     "text": [
      "Processing folders:  50%|█████     | 5/10 [01:01<00:57, 11.47s/it]"
     ]
    },
    {
     "name": "stdout",
     "output_type": "stream",
     "text": [
      "leaf_mold — removed 0 duplicates.\n"
     ]
    },
    {
     "name": "stderr",
     "output_type": "stream",
     "text": [
      "Processing folders:  60%|██████    | 6/10 [01:09<00:40, 10.00s/it]"
     ]
    },
    {
     "name": "stdout",
     "output_type": "stream",
     "text": [
      "mosaic_virus — removed 0 duplicates.\n"
     ]
    },
    {
     "name": "stderr",
     "output_type": "stream",
     "text": [
      "Processing folders:  70%|███████   | 7/10 [01:22<00:33, 11.26s/it]"
     ]
    },
    {
     "name": "stdout",
     "output_type": "stream",
     "text": [
      "septoria_leaf_spot — removed 0 duplicates.\n"
     ]
    },
    {
     "name": "stderr",
     "output_type": "stream",
     "text": [
      "Processing folders:  80%|████████  | 8/10 [01:32<00:21, 10.73s/it]"
     ]
    },
    {
     "name": "stdout",
     "output_type": "stream",
     "text": [
      "target_spot — removed 0 duplicates.\n"
     ]
    },
    {
     "name": "stderr",
     "output_type": "stream",
     "text": [
      "Processing folders:  90%|█████████ | 9/10 [01:45<00:11, 11.35s/it]"
     ]
    },
    {
     "name": "stdout",
     "output_type": "stream",
     "text": [
      "two_spotted_spider_mite — removed 0 duplicates.\n"
     ]
    },
    {
     "name": "stderr",
     "output_type": "stream",
     "text": [
      "Processing folders: 100%|██████████| 10/10 [02:31<00:00, 15.13s/it]"
     ]
    },
    {
     "name": "stdout",
     "output_type": "stream",
     "text": [
      "yellow_leaf_curl_virus — removed 0 duplicates.\n",
      "\n",
      "Finished. Total duplicates removed: 0\n"
     ]
    },
    {
     "name": "stderr",
     "output_type": "stream",
     "text": [
      "\n"
     ]
    }
   ],
   "source": [
    "import os\n",
    "from PIL import Image\n",
    "import imagehash\n",
    "from tqdm import tqdm\n",
    "import shutil\n",
    "\n",
    "# === CONFIGURATION ===\n",
    "DATASET_DIR = \"C:/Users/ekadw/Documents/DATA/Leaf_Disease/Tomato/Tomato_Full_Dataset\"  # directory data source\n",
    "HASH_FUNC = imagehash.phash\n",
    "THRESHOLD = 5                          # 0 = exact match, 1–5 = similar images allowed\n",
    "DELETE_DUPLICATES = True\n",
    "BACKUP_DUPLICATES = False              # move duplicates to backup instead of deleting\n",
    "\n",
    "# === IMPLEMENTATION ===\n",
    "def remove_duplicates_in_folder(folder_path):\n",
    "    hash_to_file = {}\n",
    "    duplicates = []\n",
    "\n",
    "    image_files = [\n",
    "        os.path.join(folder_path, f)\n",
    "        for f in os.listdir(folder_path)\n",
    "        if f.lower().endswith((\".jpg\", \".jpeg\", \".png\"))\n",
    "    ]\n",
    "\n",
    "    for filepath in image_files:\n",
    "        try:\n",
    "            img = Image.open(filepath)\n",
    "            img_hash = HASH_FUNC(img)\n",
    "        except Exception as e:\n",
    "            print(f\"Skipping {filepath}: {e}\")\n",
    "            continue\n",
    "\n",
    "        found = False\n",
    "        for existing_hash in hash_to_file:\n",
    "            if abs(img_hash - existing_hash) <= THRESHOLD:\n",
    "                duplicates.append((filepath, hash_to_file[existing_hash]))\n",
    "                found = True\n",
    "                break\n",
    "\n",
    "        if not found:\n",
    "            hash_to_file[img_hash] = filepath\n",
    "\n",
    "    if DELETE_DUPLICATES and duplicates:\n",
    "        if BACKUP_DUPLICATES:\n",
    "            backup_dir = os.path.join(folder_path, \"_duplicates_backup\")\n",
    "            os.makedirs(backup_dir, exist_ok=True)\n",
    "\n",
    "        for dup, keep in duplicates:\n",
    "            try:\n",
    "                if BACKUP_DUPLICATES:\n",
    "                    shutil.move(dup, os.path.join(backup_dir, os.path.basename(dup)))\n",
    "                else:\n",
    "                    os.remove(dup)\n",
    "            except Exception as e:\n",
    "                print(f\"Error deleting {dup}: {e}\")\n",
    "\n",
    "    return len(duplicates)\n",
    "\n",
    "\n",
    "def find_and_remove_duplicates_within_folders(root_folder):\n",
    "    class_folders = [\n",
    "        os.path.join(root_folder, d)\n",
    "        for d in os.listdir(root_folder)\n",
    "        if os.path.isdir(os.path.join(root_folder, d))\n",
    "    ]\n",
    "\n",
    "    total_deleted = 0\n",
    "    for class_folder in tqdm(class_folders, desc=\"Processing folders\"):\n",
    "        num_deleted = remove_duplicates_in_folder(class_folder)\n",
    "        print(f\"{os.path.basename(class_folder)} — removed {num_deleted} duplicates.\")\n",
    "        total_deleted += num_deleted\n",
    "\n",
    "    print(f\"\\nFinished. Total duplicates removed: {total_deleted}\")\n",
    "\n",
    "\n",
    "# === RUN ===\n",
    "if __name__ == \"__main__\":\n",
    "    find_and_remove_duplicates_within_folders(DATASET_DIR)"
   ]
  },
  {
   "cell_type": "markdown",
   "id": "c6b26bf2-e4a6-4516-a674-0a08e602d761",
   "metadata": {},
   "source": [
    "## 2. Infected and health leaves category distribution"
   ]
  },
  {
   "cell_type": "code",
   "execution_count": 2,
   "id": "3586904c-2568-48b9-b4a0-9de1429e48a5",
   "metadata": {},
   "outputs": [
    {
     "name": "stderr",
     "output_type": "stream",
     "text": [
      "Scanning folders: 11it [00:00, 286.23it/s]\n"
     ]
    },
    {
     "name": "stdout",
     "output_type": "stream",
     "text": [
      "\n",
      " Category distribution:\n",
      "\n",
      "               Category  Image Count\n",
      " yellow_leaf_curl_virus         4197\n",
      "         bacterial_spot         2122\n",
      "            late_blight         1904\n",
      "     septoria_leaf_spot         1780\n",
      "                healthy         1748\n",
      "two_spotted_spider_mite         1671\n",
      "            target_spot         1432\n",
      "              leaf_mold         1132\n",
      "           early_blight         1131\n",
      "           mosaic_virus          971\n"
     ]
    },
    {
     "data": {
      "image/png": "[encoded data removed]",
      "text/plain": [
       "<Figure size 1000x500 with 1 Axes>"
      ]
     },
     "metadata": {},
     "output_type": "display_data"
    }
   ],
   "source": [
    "import os\n",
    "import pandas as pd\n",
    "import matplotlib.pyplot as plt\n",
    "from tqdm import tqdm\n",
    "\n",
    "# === CONFIGURATION ===\n",
    "#DATASET_DIR = \"path_to_your_dataset\"  # e.g. \"./dataset\"\n",
    "VALID_EXTENSIONS = (\".jpg\", \".jpeg\", \".png\", \".bmp\", \".gif\")\n",
    "\n",
    "# === IMPLEMENTATION ===\n",
    "def get_category_distribution(root_folder):\n",
    "    category_counts = {}\n",
    "\n",
    "    # Loop through all subfolders\n",
    "    for root, dirs, files in tqdm(os.walk(root_folder), desc=\"Scanning folders\"):\n",
    "        # Only count files if this folder directly contains images\n",
    "        image_files = [f for f in files if f.lower().endswith(VALID_EXTENSIONS)]\n",
    "        if image_files:\n",
    "            # Folder name (class label)\n",
    "            label = os.path.basename(root)\n",
    "            category_counts[label] = category_counts.get(label, 0) + len(image_files)\n",
    "\n",
    "    # Convert to DataFrame for better formatting\n",
    "    df = pd.DataFrame(list(category_counts.items()), columns=[\"Category\", \"Image Count\"])\n",
    "    df = df.sort_values(\"Image Count\", ascending=False).reset_index(drop=True)\n",
    "\n",
    "    return df\n",
    "\n",
    "def plot_distribution(df, title=\"Dataset Category Distribution\"):\n",
    "    plt.figure(figsize=(10, 5))\n",
    "    plt.bar(df[\"Category\"], df[\"Image Count\"])\n",
    "    plt.xticks(rotation=45, ha=\"right\")\n",
    "    plt.title(title)\n",
    "    plt.xlabel(\"Category\")\n",
    "    plt.ylabel(\"Number of Images\")\n",
    "    plt.tight_layout()\n",
    "    plt.show()\n",
    "\n",
    "\n",
    "# === RUN ===\n",
    "if __name__ == \"__main__\":\n",
    "    df = get_category_distribution(DATASET_DIR)\n",
    "    print(\"\\n Category distribution:\\n\")\n",
    "    print(df.to_string(index=False))\n",
    "\n",
    "    plot_distribution(df)"
   ]
  },
  {
   "cell_type": "markdown",
   "id": "20ece5f6-0cad-4085-9ad0-bc3611fe141a",
   "metadata": {},
   "source": [
    "Result: there is imbalance dataset, so that we will use balancing technique so that the minority target will not be discriminated."
   ]
  },
  {
   "cell_type": "markdown",
   "id": "cdb96975-52d6-4955-8cb4-560f2e1f3f25",
   "metadata": {},
   "source": [
    "## 3. Call all libraries required"
   ]
  },
  {
   "cell_type": "code",
   "execution_count": 3,
   "id": "9e9742be-e8a1-44b6-b9da-6cc4cdf25166",
   "metadata": {},
   "outputs": [],
   "source": [
    "import os\n",
    "import numpy as np\n",
    "import matplotlib.pyplot as plt\n",
    "from sklearn.utils.class_weight import compute_class_weight\n",
    "from tensorflow.keras.preprocessing.image import ImageDataGenerator\n",
    "from tensorflow.keras.applications import MobileNetV2\n",
    "from tensorflow.keras.applications.mobilenet_v2 import preprocess_input\n",
    "from tensorflow.keras.models import Model\n",
    "from tensorflow.keras.layers import GlobalAveragePooling2D, Dense, Dropout\n",
    "from tensorflow.keras.optimizers import Adam\n",
    "from tensorflow.keras.callbacks import EarlyStopping, ModelCheckpoint\n",
    "import warnings\n",
    "warnings.filterwarnings(\"ignore\", category=UserWarning, module='tensorflow')"
   ]
  },
  {
   "cell_type": "markdown",
   "id": "c4b3c580-85bc-4da3-ad6d-87edaaff84a6",
   "metadata": {},
   "source": [
    "## 4. Data preparation"
   ]
  },
  {
   "cell_type": "code",
   "execution_count": 4,
   "id": "a85c47b0-18fd-47c1-9f4e-762a60233260",
   "metadata": {},
   "outputs": [
    {
     "name": "stdout",
     "output_type": "stream",
     "text": [
      "Found 14474 images belonging to 10 classes.\n",
      "Found 3614 images belonging to 10 classes.\n"
     ]
    }
   ],
   "source": [
    "DATASET_DIR = \"C:/Users/ekadw/Documents/DATA/Leaf_Disease/Tomato/Tomato_Full_Dataset\"\n",
    "IMG_SIZE = (224, 224)\n",
    "BATCH_SIZE = 32\n",
    "EPOCHS = 20\n",
    "\n",
    "datagen = ImageDataGenerator(\n",
    "    preprocessing_function=preprocess_input,  # MobileNetV2 expects [-1, 1]\n",
    "    rotation_range=20,\n",
    "    width_shift_range=0.1,\n",
    "    height_shift_range=0.1,\n",
    "    zoom_range=0.2,\n",
    "    horizontal_flip=True,\n",
    "    validation_split=0.2\n",
    ")\n",
    "\n",
    "train_gen = datagen.flow_from_directory(\n",
    "    DATASET_DIR,\n",
    "    target_size=IMG_SIZE,\n",
    "    batch_size=BATCH_SIZE,\n",
    "    subset='training',\n",
    "    class_mode='categorical',\n",
    "    shuffle=True\n",
    ")\n",
    "\n",
    "val_gen = datagen.flow_from_directory(\n",
    "    DATASET_DIR,\n",
    "    target_size=IMG_SIZE,\n",
    "    batch_size=BATCH_SIZE,\n",
    "    subset='validation',\n",
    "    class_mode='categorical',\n",
    "    shuffle=False\n",
    ")"
   ]
  },
  {
   "cell_type": "markdown",
   "id": "460386ea-cfd1-4453-8953-8f6b576d91cc",
   "metadata": {},
   "source": [
    "## 5. Compute class weight for imbalance correction"
   ]
  },
  {
   "cell_type": "code",
   "execution_count": 5,
   "id": "57ec247a-6148-4d9c-8762-c383b72e9b75",
   "metadata": {},
   "outputs": [
    {
     "name": "stdout",
     "output_type": "stream",
     "text": [
      "Class weights: {0: np.float64(0.852414605418139), 1: np.float64(1.5993370165745857), 2: np.float64(1.0345961401000714), 3: np.float64(0.9497375328083989), 4: np.float64(1.5975717439293597), 5: np.float64(1.8628056628056628), 6: np.float64(1.0164325842696629), 7: np.float64(1.263001745200698), 8: np.float64(1.0825729244577411), 9: np.float64(0.43103037522334725)}\n"
     ]
    }
   ],
   "source": [
    "labels = train_gen.classes\n",
    "classes = np.unique(labels)\n",
    "cw = compute_class_weight(class_weight='balanced', classes=classes, y=labels)\n",
    "class_weights = dict(enumerate(cw))\n",
    "print(\"Class weights:\", class_weights)"
   ]
  },
  {
   "cell_type": "markdown",
   "id": "13c872b9-8296-421d-b8e2-af05753c87c9",
   "metadata": {},
   "source": [
    "## 6. Model setup for MobileNetV2"
   ]
  },
  {
   "cell_type": "code",
   "execution_count": 6,
   "id": "26848084-76d3-415c-b811-ee26c58a3af1",
   "metadata": {},
   "outputs": [],
   "source": [
    "base_model = MobileNetV2(weights='imagenet', include_top=False, input_shape=IMG_SIZE + (3,))\n",
    "base_model.trainable = False  # freeze base initially\n",
    "\n",
    "x = GlobalAveragePooling2D()(base_model.output)\n",
    "x = Dropout(0.3)(x)\n",
    "x = Dense(256, activation='relu')(x)\n",
    "x = Dropout(0.3)(x)\n",
    "output = Dense(train_gen.num_classes, activation='softmax')(x)\n",
    "\n",
    "model = Model(inputs=base_model.input, outputs=output)\n",
    "\n",
    "model.compile(optimizer=Adam(1e-4),\n",
    "              loss='categorical_crossentropy',\n",
    "              metrics=['accuracy'])"
   ]
  },
  {
   "cell_type": "markdown",
   "id": "7954a865-ef9d-4aa1-b07b-193077ad5bd0",
   "metadata": {},
   "source": [
    "## 7. Callback"
   ]
  },
  {
   "cell_type": "code",
   "execution_count": 7,
   "id": "1cc0ca35-6f74-4ba7-b868-81c98ce43632",
   "metadata": {},
   "outputs": [],
   "source": [
    "es = EarlyStopping(monitor='val_loss', patience=5, restore_best_weights=True, verbose=1)\n",
    "ckpt = ModelCheckpoint('best_mobilenetv2_tomato.keras',\n",
    "                       monitor='val_accuracy',\n",
    "                       save_best_only=True,\n",
    "                       verbose=1)"
   ]
  },
  {
   "cell_type": "markdown",
   "id": "b15946ef-4c6f-427c-a09a-9c3ad26dde03",
   "metadata": {},
   "source": [
    "## 8. Train base model (frozen)"
   ]
  },
  {
   "cell_type": "code",
   "execution_count": 8,
   "id": "b9b8f289-902d-4ceb-a5d5-7070c2aeef0b",
   "metadata": {},
   "outputs": [
    {
     "name": "stderr",
     "output_type": "stream",
     "text": [
      "C:\\Users\\ekadw\\anaconda3\\envs\\Tensorflow31018\\lib\\site-packages\\keras\\src\\trainers\\data_adapters\\py_dataset_adapter.py:121: UserWarning: Your `PyDataset` class should call `super().__init__(**kwargs)` in its constructor. `**kwargs` can include `workers`, `use_multiprocessing`, `max_queue_size`. Do not pass these arguments to `fit()`, as they will be ignored.\n",
      "  self._warn_if_super_not_called()\n"
     ]
    },
    {
     "name": "stdout",
     "output_type": "stream",
     "text": [
      "Epoch 1/20\n",
      "\u001b[1m453/453\u001b[0m \u001b[32m━━━━━━━━━━━━━━━━━━━━\u001b[0m\u001b[37m\u001b[0m \u001b[1m0s\u001b[0m 649ms/step - accuracy: 0.3461 - loss: 2.0141  \n",
      "Epoch 1: val_accuracy improved from -inf to 0.76619, saving model to best_mobilenetv2_tomato.keras\n",
      "\u001b[1m453/453\u001b[0m \u001b[32m━━━━━━━━━━━━━━━━━━━━\u001b[0m\u001b[37m\u001b[0m \u001b[1m374s\u001b[0m 817ms/step - accuracy: 0.3464 - loss: 2.0131 - val_accuracy: 0.7662 - val_loss: 0.7952\n",
      "Epoch 2/20\n",
      "\u001b[1m453/453\u001b[0m \u001b[32m━━━━━━━━━━━━━━━━━━━━\u001b[0m\u001b[37m\u001b[0m \u001b[1m0s\u001b[0m 660ms/step - accuracy: 0.6837 - loss: 1.0228  \n",
      "Epoch 2: val_accuracy improved from 0.76619 to 0.81876, saving model to best_mobilenetv2_tomato.keras\n",
      "\u001b[1m453/453\u001b[0m \u001b[32m━━━━━━━━━━━━━━━━━━━━\u001b[0m\u001b[37m\u001b[0m \u001b[1m373s\u001b[0m 823ms/step - accuracy: 0.6838 - loss: 1.0227 - val_accuracy: 0.8188 - val_loss: 0.5933\n",
      "Epoch 3/20\n",
      "\u001b[1m453/453\u001b[0m \u001b[32m━━━━━━━━━━━━━━━━━━━━\u001b[0m\u001b[37m\u001b[0m \u001b[1m0s\u001b[0m 681ms/step - accuracy: 0.7505 - loss: 0.8144  \n",
      "Epoch 3: val_accuracy improved from 0.81876 to 0.84975, saving model to best_mobilenetv2_tomato.keras\n",
      "\u001b[1m453/453\u001b[0m \u001b[32m━━━━━━━━━━━━━━━━━━━━\u001b[0m\u001b[37m\u001b[0m \u001b[1m382s\u001b[0m 844ms/step - accuracy: 0.7505 - loss: 0.8144 - val_accuracy: 0.8498 - val_loss: 0.4899\n",
      "Epoch 4/20\n",
      "\u001b[1m453/453\u001b[0m \u001b[32m━━━━━━━━━━━━━━━━━━━━\u001b[0m\u001b[37m\u001b[0m \u001b[1m0s\u001b[0m 658ms/step - accuracy: 0.7803 - loss: 0.7166  \n",
      "Epoch 4: val_accuracy improved from 0.84975 to 0.85778, saving model to best_mobilenetv2_tomato.keras\n",
      "\u001b[1m453/453\u001b[0m \u001b[32m━━━━━━━━━━━━━━━━━━━━\u001b[0m\u001b[37m\u001b[0m \u001b[1m371s\u001b[0m 820ms/step - accuracy: 0.7803 - loss: 0.7166 - val_accuracy: 0.8578 - val_loss: 0.4384\n",
      "Epoch 5/20\n",
      "\u001b[1m453/453\u001b[0m \u001b[32m━━━━━━━━━━━━━━━━━━━━\u001b[0m\u001b[37m\u001b[0m \u001b[1m0s\u001b[0m 653ms/step - accuracy: 0.7885 - loss: 0.6785  \n",
      "Epoch 5: val_accuracy improved from 0.85778 to 0.85861, saving model to best_mobilenetv2_tomato.keras\n",
      "\u001b[1m453/453\u001b[0m \u001b[32m━━━━━━━━━━━━━━━━━━━━\u001b[0m\u001b[37m\u001b[0m \u001b[1m369s\u001b[0m 815ms/step - accuracy: 0.7885 - loss: 0.6785 - val_accuracy: 0.8586 - val_loss: 0.4268\n",
      "Epoch 6/20\n",
      "\u001b[1m453/453\u001b[0m \u001b[32m━━━━━━━━━━━━━━━━━━━━\u001b[0m\u001b[37m\u001b[0m \u001b[1m0s\u001b[0m 650ms/step - accuracy: 0.8042 - loss: 0.6261  \n",
      "Epoch 6: val_accuracy improved from 0.85861 to 0.87687, saving model to best_mobilenetv2_tomato.keras\n",
      "\u001b[1m453/453\u001b[0m \u001b[32m━━━━━━━━━━━━━━━━━━━━\u001b[0m\u001b[37m\u001b[0m \u001b[1m367s\u001b[0m 810ms/step - accuracy: 0.8042 - loss: 0.6261 - val_accuracy: 0.8769 - val_loss: 0.3868\n",
      "Epoch 7/20\n",
      "\u001b[1m453/453\u001b[0m \u001b[32m━━━━━━━━━━━━━━━━━━━━\u001b[0m\u001b[37m\u001b[0m \u001b[1m0s\u001b[0m 645ms/step - accuracy: 0.8212 - loss: 0.5780  \n",
      "Epoch 7: val_accuracy did not improve from 0.87687\n",
      "\u001b[1m453/453\u001b[0m \u001b[32m━━━━━━━━━━━━━━━━━━━━\u001b[0m\u001b[37m\u001b[0m \u001b[1m364s\u001b[0m 803ms/step - accuracy: 0.8212 - loss: 0.5780 - val_accuracy: 0.8741 - val_loss: 0.3767\n",
      "Epoch 8/20\n",
      "\u001b[1m453/453\u001b[0m \u001b[32m━━━━━━━━━━━━━━━━━━━━\u001b[0m\u001b[37m\u001b[0m \u001b[1m0s\u001b[0m 671ms/step - accuracy: 0.8320 - loss: 0.5464  \n",
      "Epoch 8: val_accuracy improved from 0.87687 to 0.88157, saving model to best_mobilenetv2_tomato.keras\n",
      "\u001b[1m453/453\u001b[0m \u001b[32m━━━━━━━━━━━━━━━━━━━━\u001b[0m\u001b[37m\u001b[0m \u001b[1m414s\u001b[0m 913ms/step - accuracy: 0.8320 - loss: 0.5464 - val_accuracy: 0.8816 - val_loss: 0.3602\n",
      "Epoch 9/20\n",
      "\u001b[1m453/453\u001b[0m \u001b[32m━━━━━━━━━━━━━━━━━━━━\u001b[0m\u001b[37m\u001b[0m \u001b[1m0s\u001b[0m 1s/step - accuracy: 0.8321 - loss: 0.5361  \n",
      "Epoch 9: val_accuracy improved from 0.88157 to 0.88489, saving model to best_mobilenetv2_tomato.keras\n",
      "\u001b[1m453/453\u001b[0m \u001b[32m━━━━━━━━━━━━━━━━━━━━\u001b[0m\u001b[37m\u001b[0m \u001b[1m624s\u001b[0m 1s/step - accuracy: 0.8321 - loss: 0.5361 - val_accuracy: 0.8849 - val_loss: 0.3442\n",
      "Epoch 10/20\n",
      "\u001b[1m453/453\u001b[0m \u001b[32m━━━━━━━━━━━━━━━━━━━━\u001b[0m\u001b[37m\u001b[0m \u001b[1m0s\u001b[0m 868ms/step - accuracy: 0.8379 - loss: 0.5197  \n",
      "Epoch 10: val_accuracy did not improve from 0.88489\n",
      "\u001b[1m453/453\u001b[0m \u001b[32m━━━━━━━━━━━━━━━━━━━━\u001b[0m\u001b[37m\u001b[0m \u001b[1m483s\u001b[0m 1s/step - accuracy: 0.8379 - loss: 0.5196 - val_accuracy: 0.8816 - val_loss: 0.3463\n",
      "Epoch 11/20\n",
      "\u001b[1m453/453\u001b[0m \u001b[32m━━━━━━━━━━━━━━━━━━━━\u001b[0m\u001b[37m\u001b[0m \u001b[1m0s\u001b[0m 869ms/step - accuracy: 0.8454 - loss: 0.5015  \n",
      "Epoch 11: val_accuracy improved from 0.88489 to 0.89458, saving model to best_mobilenetv2_tomato.keras\n",
      "\u001b[1m453/453\u001b[0m \u001b[32m━━━━━━━━━━━━━━━━━━━━\u001b[0m\u001b[37m\u001b[0m \u001b[1m489s\u001b[0m 1s/step - accuracy: 0.8454 - loss: 0.5015 - val_accuracy: 0.8946 - val_loss: 0.3180\n",
      "Epoch 12/20\n",
      "\u001b[1m453/453\u001b[0m \u001b[32m━━━━━━━━━━━━━━━━━━━━\u001b[0m\u001b[37m\u001b[0m \u001b[1m0s\u001b[0m 776ms/step - accuracy: 0.8587 - loss: 0.4736  \n",
      "Epoch 12: val_accuracy improved from 0.89458 to 0.89900, saving model to best_mobilenetv2_tomato.keras\n",
      "\u001b[1m453/453\u001b[0m \u001b[32m━━━━━━━━━━━━━━━━━━━━\u001b[0m\u001b[37m\u001b[0m \u001b[1m438s\u001b[0m 966ms/step - accuracy: 0.8586 - loss: 0.4736 - val_accuracy: 0.8990 - val_loss: 0.3164\n",
      "Epoch 13/20\n",
      "\u001b[1m453/453\u001b[0m \u001b[32m━━━━━━━━━━━━━━━━━━━━\u001b[0m\u001b[37m\u001b[0m \u001b[1m0s\u001b[0m 739ms/step - accuracy: 0.8502 - loss: 0.4920  \n",
      "Epoch 13: val_accuracy did not improve from 0.89900\n",
      "\u001b[1m453/453\u001b[0m \u001b[32m━━━━━━━━━━━━━━━━━━━━\u001b[0m\u001b[37m\u001b[0m \u001b[1m416s\u001b[0m 918ms/step - accuracy: 0.8502 - loss: 0.4920 - val_accuracy: 0.8854 - val_loss: 0.3256\n",
      "Epoch 14/20\n",
      "\u001b[1m453/453\u001b[0m \u001b[32m━━━━━━━━━━━━━━━━━━━━\u001b[0m\u001b[37m\u001b[0m \u001b[1m0s\u001b[0m 695ms/step - accuracy: 0.8578 - loss: 0.4722  \n",
      "Epoch 14: val_accuracy did not improve from 0.89900\n",
      "\u001b[1m453/453\u001b[0m \u001b[32m━━━━━━━━━━━━━━━━━━━━\u001b[0m\u001b[37m\u001b[0m \u001b[1m392s\u001b[0m 864ms/step - accuracy: 0.8578 - loss: 0.4721 - val_accuracy: 0.8965 - val_loss: 0.3077\n",
      "Epoch 15/20\n",
      "\u001b[1m453/453\u001b[0m \u001b[32m━━━━━━━━━━━━━━━━━━━━\u001b[0m\u001b[37m\u001b[0m \u001b[1m0s\u001b[0m 805ms/step - accuracy: 0.8628 - loss: 0.4460  \n",
      "Epoch 15: val_accuracy improved from 0.89900 to 0.90094, saving model to best_mobilenetv2_tomato.keras\n",
      "\u001b[1m453/453\u001b[0m \u001b[32m━━━━━━━━━━━━━━━━━━━━\u001b[0m\u001b[37m\u001b[0m \u001b[1m461s\u001b[0m 1s/step - accuracy: 0.8628 - loss: 0.4459 - val_accuracy: 0.9009 - val_loss: 0.2894\n",
      "Epoch 16/20\n",
      "\u001b[1m453/453\u001b[0m \u001b[32m━━━━━━━━━━━━━━━━━━━━\u001b[0m\u001b[37m\u001b[0m \u001b[1m0s\u001b[0m 792ms/step - accuracy: 0.8615 - loss: 0.4390  \n",
      "Epoch 16: val_accuracy improved from 0.90094 to 0.90177, saving model to best_mobilenetv2_tomato.keras\n",
      "\u001b[1m453/453\u001b[0m \u001b[32m━━━━━━━━━━━━━━━━━━━━\u001b[0m\u001b[37m\u001b[0m \u001b[1m451s\u001b[0m 995ms/step - accuracy: 0.8615 - loss: 0.4390 - val_accuracy: 0.9018 - val_loss: 0.2863\n",
      "Epoch 17/20\n",
      "\u001b[1m453/453\u001b[0m \u001b[32m━━━━━━━━━━━━━━━━━━━━\u001b[0m\u001b[37m\u001b[0m \u001b[1m0s\u001b[0m 844ms/step - accuracy: 0.8579 - loss: 0.4501  \n",
      "Epoch 17: val_accuracy did not improve from 0.90177\n",
      "\u001b[1m453/453\u001b[0m \u001b[32m━━━━━━━━━━━━━━━━━━━━\u001b[0m\u001b[37m\u001b[0m \u001b[1m470s\u001b[0m 1s/step - accuracy: 0.8579 - loss: 0.4500 - val_accuracy: 0.8996 - val_loss: 0.2810\n",
      "Epoch 18/20\n",
      "\u001b[1m453/453\u001b[0m \u001b[32m━━━━━━━━━━━━━━━━━━━━\u001b[0m\u001b[37m\u001b[0m \u001b[1m0s\u001b[0m 748ms/step - accuracy: 0.8660 - loss: 0.4373  \n",
      "Epoch 18: val_accuracy did not improve from 0.90177\n",
      "\u001b[1m453/453\u001b[0m \u001b[32m━━━━━━━━━━━━━━━━━━━━\u001b[0m\u001b[37m\u001b[0m \u001b[1m421s\u001b[0m 928ms/step - accuracy: 0.8660 - loss: 0.4373 - val_accuracy: 0.9007 - val_loss: 0.2907\n",
      "Epoch 19/20\n",
      "\u001b[1m453/453\u001b[0m \u001b[32m━━━━━━━━━━━━━━━━━━━━\u001b[0m\u001b[37m\u001b[0m \u001b[1m0s\u001b[0m 773ms/step - accuracy: 0.8699 - loss: 0.4155  \n",
      "Epoch 19: val_accuracy improved from 0.90177 to 0.91146, saving model to best_mobilenetv2_tomato.keras\n",
      "\u001b[1m453/453\u001b[0m \u001b[32m━━━━━━━━━━━━━━━━━━━━\u001b[0m\u001b[37m\u001b[0m \u001b[1m440s\u001b[0m 971ms/step - accuracy: 0.8699 - loss: 0.4155 - val_accuracy: 0.9115 - val_loss: 0.2735\n",
      "Epoch 20/20\n",
      "\u001b[1m453/453\u001b[0m \u001b[32m━━━━━━━━━━━━━━━━━━━━\u001b[0m\u001b[37m\u001b[0m \u001b[1m0s\u001b[0m 788ms/step - accuracy: 0.8712 - loss: 0.4064  \n",
      "Epoch 20: val_accuracy did not improve from 0.91146\n",
      "\u001b[1m453/453\u001b[0m \u001b[32m━━━━━━━━━━━━━━━━━━━━\u001b[0m\u001b[37m\u001b[0m \u001b[1m443s\u001b[0m 978ms/step - accuracy: 0.8712 - loss: 0.4064 - val_accuracy: 0.9026 - val_loss: 0.2819\n",
      "Restoring model weights from the end of the best epoch: 19.\n"
     ]
    }
   ],
   "source": [
    "history = model.fit(\n",
    "    train_gen,\n",
    "    validation_data=val_gen,\n",
    "    epochs=EPOCHS,\n",
    "    class_weight=class_weights,\n",
    "    callbacks=[es, ckpt]\n",
    ")"
   ]
  },
  {
   "cell_type": "markdown",
   "id": "b5138a84-80d9-4cec-9c70-7dcb5e169a4e",
   "metadata": {},
   "source": [
    "## 9. Fine tunning (unfreeze top layers)"
   ]
  },
  {
   "cell_type": "code",
   "execution_count": 9,
   "id": "fcb03b3c-9a02-4c01-9914-70e3a1c99034",
   "metadata": {},
   "outputs": [
    {
     "name": "stdout",
     "output_type": "stream",
     "text": [
      "Epoch 1/10\n",
      "\u001b[1m453/453\u001b[0m \u001b[32m━━━━━━━━━━━━━━━━━━━━\u001b[0m\u001b[37m\u001b[0m \u001b[1m0s\u001b[0m 996ms/step - accuracy: 0.6404 - loss: 1.2980  \n",
      "Epoch 1: val_accuracy did not improve from 0.91146\n",
      "\u001b[1m453/453\u001b[0m \u001b[32m━━━━━━━━━━━━━━━━━━━━\u001b[0m\u001b[37m\u001b[0m \u001b[1m561s\u001b[0m 1s/step - accuracy: 0.6406 - loss: 1.2971 - val_accuracy: 0.8794 - val_loss: 0.3565\n",
      "Epoch 2/10\n",
      "\u001b[1m453/453\u001b[0m \u001b[32m━━━━━━━━━━━━━━━━━━━━\u001b[0m\u001b[37m\u001b[0m \u001b[1m0s\u001b[0m 872ms/step - accuracy: 0.8334 - loss: 0.5235  \n",
      "Epoch 2: val_accuracy did not improve from 0.91146\n",
      "\u001b[1m453/453\u001b[0m \u001b[32m━━━━━━━━━━━━━━━━━━━━\u001b[0m\u001b[37m\u001b[0m \u001b[1m481s\u001b[0m 1s/step - accuracy: 0.8334 - loss: 0.5234 - val_accuracy: 0.8882 - val_loss: 0.3191\n",
      "Epoch 3/10\n",
      "\u001b[1m453/453\u001b[0m \u001b[32m━━━━━━━━━━━━━━━━━━━━\u001b[0m\u001b[37m\u001b[0m \u001b[1m0s\u001b[0m 854ms/step - accuracy: 0.8598 - loss: 0.4419  \n",
      "Epoch 3: val_accuracy did not improve from 0.91146\n",
      "\u001b[1m453/453\u001b[0m \u001b[32m━━━━━━━━━━━━━━━━━━━━\u001b[0m\u001b[37m\u001b[0m \u001b[1m480s\u001b[0m 1s/step - accuracy: 0.8599 - loss: 0.4418 - val_accuracy: 0.8996 - val_loss: 0.2939\n",
      "Epoch 4/10\n",
      "\u001b[1m453/453\u001b[0m \u001b[32m━━━━━━━━━━━━━━━━━━━━\u001b[0m\u001b[37m\u001b[0m \u001b[1m0s\u001b[0m 916ms/step - accuracy: 0.8865 - loss: 0.3688  \n",
      "Epoch 4: val_accuracy improved from 0.91146 to 0.91395, saving model to best_mobilenetv2_tomato.keras\n",
      "\u001b[1m453/453\u001b[0m \u001b[32m━━━━━━━━━━━━━━━━━━━━\u001b[0m\u001b[37m\u001b[0m \u001b[1m501s\u001b[0m 1s/step - accuracy: 0.8865 - loss: 0.3688 - val_accuracy: 0.9139 - val_loss: 0.2558\n",
      "Epoch 5/10\n",
      "\u001b[1m453/453\u001b[0m \u001b[32m━━━━━━━━━━━━━━━━━━━━\u001b[0m\u001b[37m\u001b[0m \u001b[1m0s\u001b[0m 856ms/step - accuracy: 0.8979 - loss: 0.3331  \n",
      "Epoch 5: val_accuracy improved from 0.91395 to 0.92280, saving model to best_mobilenetv2_tomato.keras\n",
      "\u001b[1m453/453\u001b[0m \u001b[32m━━━━━━━━━━━━━━━━━━━━\u001b[0m\u001b[37m\u001b[0m \u001b[1m480s\u001b[0m 1s/step - accuracy: 0.8979 - loss: 0.3331 - val_accuracy: 0.9228 - val_loss: 0.2343\n",
      "Epoch 6/10\n",
      "\u001b[1m453/453\u001b[0m \u001b[32m━━━━━━━━━━━━━━━━━━━━\u001b[0m\u001b[37m\u001b[0m \u001b[1m0s\u001b[0m 911ms/step - accuracy: 0.9052 - loss: 0.3085  \n",
      "Epoch 6: val_accuracy improved from 0.92280 to 0.92695, saving model to best_mobilenetv2_tomato.keras\n",
      "\u001b[1m453/453\u001b[0m \u001b[32m━━━━━━━━━━━━━━━━━━━━\u001b[0m\u001b[37m\u001b[0m \u001b[1m500s\u001b[0m 1s/step - accuracy: 0.9052 - loss: 0.3085 - val_accuracy: 0.9270 - val_loss: 0.2076\n",
      "Epoch 7/10\n",
      "\u001b[1m453/453\u001b[0m \u001b[32m━━━━━━━━━━━━━━━━━━━━\u001b[0m\u001b[37m\u001b[0m \u001b[1m0s\u001b[0m 820ms/step - accuracy: 0.9169 - loss: 0.2600  \n",
      "Epoch 7: val_accuracy improved from 0.92695 to 0.93027, saving model to best_mobilenetv2_tomato.keras\n",
      "\u001b[1m453/453\u001b[0m \u001b[32m━━━━━━━━━━━━━━━━━━━━\u001b[0m\u001b[37m\u001b[0m \u001b[1m498s\u001b[0m 1s/step - accuracy: 0.9169 - loss: 0.2600 - val_accuracy: 0.9303 - val_loss: 0.1969\n",
      "Epoch 8/10\n",
      "\u001b[1m453/453\u001b[0m \u001b[32m━━━━━━━━━━━━━━━━━━━━\u001b[0m\u001b[37m\u001b[0m \u001b[1m0s\u001b[0m 1s/step - accuracy: 0.9224 - loss: 0.2416  \n",
      "Epoch 8: val_accuracy improved from 0.93027 to 0.93857, saving model to best_mobilenetv2_tomato.keras\n",
      "\u001b[1m453/453\u001b[0m \u001b[32m━━━━━━━━━━━━━━━━━━━━\u001b[0m\u001b[37m\u001b[0m \u001b[1m735s\u001b[0m 2s/step - accuracy: 0.9224 - loss: 0.2416 - val_accuracy: 0.9386 - val_loss: 0.1807\n",
      "Epoch 9/10\n",
      "\u001b[1m453/453\u001b[0m \u001b[32m━━━━━━━━━━━━━━━━━━━━\u001b[0m\u001b[37m\u001b[0m \u001b[1m0s\u001b[0m 1s/step - accuracy: 0.9307 - loss: 0.2249  \n",
      "Epoch 9: val_accuracy improved from 0.93857 to 0.94466, saving model to best_mobilenetv2_tomato.keras\n",
      "\u001b[1m453/453\u001b[0m \u001b[32m━━━━━━━━━━━━━━━━━━━━\u001b[0m\u001b[37m\u001b[0m \u001b[1m548s\u001b[0m 1s/step - accuracy: 0.9307 - loss: 0.2249 - val_accuracy: 0.9447 - val_loss: 0.1633\n",
      "Epoch 10/10\n",
      "\u001b[1m453/453\u001b[0m \u001b[32m━━━━━━━━━━━━━━━━━━━━\u001b[0m\u001b[37m\u001b[0m \u001b[1m0s\u001b[0m 780ms/step - accuracy: 0.9382 - loss: 0.2054  \n",
      "Epoch 10: val_accuracy improved from 0.94466 to 0.95047, saving model to best_mobilenetv2_tomato.keras\n",
      "\u001b[1m453/453\u001b[0m \u001b[32m━━━━━━━━━━━━━━━━━━━━\u001b[0m\u001b[37m\u001b[0m \u001b[1m431s\u001b[0m 952ms/step - accuracy: 0.9382 - loss: 0.2054 - val_accuracy: 0.9505 - val_loss: 0.1399\n",
      "Restoring model weights from the end of the best epoch: 10.\n"
     ]
    }
   ],
   "source": [
    "for layer in base_model.layers[-30:]:\n",
    "    layer.trainable = True\n",
    "\n",
    "model.compile(optimizer=Adam(1e-5),\n",
    "              loss='categorical_crossentropy',\n",
    "              metrics=['accuracy'])\n",
    "\n",
    "fine_history = model.fit(\n",
    "    train_gen,\n",
    "    validation_data=val_gen,\n",
    "    epochs=10,\n",
    "    class_weight=class_weights,\n",
    "    callbacks=[es, ckpt]\n",
    ")"
   ]
  },
  {
   "cell_type": "markdown",
   "id": "e3a3cbcd-e1d7-4dae-965d-b746be38d274",
   "metadata": {},
   "source": [
    "## 10. Evaluation"
   ]
  },
  {
   "cell_type": "code",
   "execution_count": 10,
   "id": "413d9a2b-49fb-4d76-98f7-cafb05f10f31",
   "metadata": {},
   "outputs": [
    {
     "name": "stdout",
     "output_type": "stream",
     "text": [
      "\u001b[1m113/113\u001b[0m \u001b[32m━━━━━━━━━━━━━━━━━━━━\u001b[0m\u001b[37m\u001b[0m \u001b[1m76s\u001b[0m 672ms/step - accuracy: 0.9449 - loss: 0.1700 \n",
      "\n",
      " Validation Accuracy after fine-tuning: 0.9507\n"
     ]
    }
   ],
   "source": [
    "val_loss, val_acc = model.evaluate(val_gen)\n",
    "print(f\"\\n Validation Accuracy after fine-tuning: {val_acc:.4f}\")"
   ]
  },
  {
   "cell_type": "markdown",
   "id": "cc112e4a-d8db-45dd-831b-952fbd96a883",
   "metadata": {},
   "source": [
    "## 11. Plot training vs validation accuracy"
   ]
  },
  {
   "cell_type": "code",
   "execution_count": 11,
   "id": "e9f0fac4-ef88-461b-9012-4cd033f4c1eb",
   "metadata": {},
   "outputs": [
    {
     "data": {
      "image/png": "[encoded data removed]",
      "text/plain": [
       "<Figure size 800x500 with 1 Axes>"
      ]
     },
     "metadata": {},
     "output_type": "display_data"
    }
   ],
   "source": [
    "plt.figure(figsize=(8, 5))\n",
    "plt.plot(history.history['accuracy'] + fine_history.history['accuracy'], label='Train Acc')\n",
    "plt.plot(history.history['val_accuracy'] + fine_history.history['val_accuracy'], label='Val Acc')\n",
    "plt.title(\"MobileNetV2 Training vs Validation Accuracy\")\n",
    "plt.xlabel(\"Epochs\")\n",
    "plt.ylabel(\"Accuracy\")\n",
    "plt.legend()\n",
    "plt.grid(True)\n",
    "plt.show()"
   ]
  },
  {
   "cell_type": "markdown",
   "id": "bb73e6bf-91fa-4e03-b83f-010ce76594a7",
   "metadata": {},
   "source": [
    "## 12. Save and Load model"
   ]
  },
  {
   "cell_type": "code",
   "execution_count": 12,
   "id": "3e834547-4b34-432d-84d6-645f8d99bb1a",
   "metadata": {},
   "outputs": [],
   "source": [
    "# save model:\n",
    "# ModelCheckpoint('best_mobilenetv2_tomato.keras', save_best_only=True)\n",
    "\n",
    "# load model:\n",
    "#from tensorflow.keras.models import load_model\n",
    "#model = load_model(\"best_mobilenetv2_tomato.keras\")"
   ]
  }
 ],
 "metadata": {
  "kernelspec": {
   "display_name": "Python 3 (ipykernel)",
   "language": "python",
   "name": "python3"
  },
  "language_info": {
   "codemirror_mode": {
    "name": "ipython",
    "version": 3
   },
   "file_extension": ".py",
   "mimetype": "text/x-python",
   "name": "python",
   "nbconvert_exporter": "python",
   "pygments_lexer": "ipython3",
   "version": "3.10.18"
  }
 },
 "nbformat": 4,
 "nbformat_minor": 5
}
